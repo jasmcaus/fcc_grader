{
 "cells": [
  {
   "cell_type": "markdown",
   "metadata": {},
   "source": [
    "# Scientific Computing in Python"
   ]
  },
  {
   "cell_type": "code",
   "execution_count": 1,
   "metadata": {},
   "outputs": [],
   "source": [
    "import fcc_grader as fcc\n",
    "from fcc_grader.scientific_computing import *"
   ]
  },
  {
   "cell_type": "markdown",
   "metadata": {},
   "source": [
    "# Lesson 1\n",
    "...\n",
    "\n",
    "Your challenge is to add the following two numbers together and grade your response\n",
    "```py\n",
    "NUM1 = 1\n",
    "NUM2 = 1\n",
    "```"
   ]
  },
  {
   "cell_type": "code",
   "execution_count": 2,
   "metadata": {},
   "outputs": [
    {
     "name": "stdout",
     "output_type": "stream",
     "text": [
      "Ola 🎉! Your answer is correct\n"
     ]
    }
   ],
   "source": [
    "NUM1 = 1\n",
    "NUM2 = 1\n",
    "result = NUM1 + NUM2\n",
    "\n",
    "grade_lesson1(result)"
   ]
  },
  {
   "cell_type": "markdown",
   "metadata": {},
   "source": [
    "# Lesson 2\n",
    "...\n",
    "Use the `np.sum()` function from the Numpy package to return the sum of all the elements in an array:\n",
    "```py\n",
    "ARR = np.array([[1, 2, 3], [4, 5, 6], [7 ,8, 9]])\n",
    "```"
   ]
  },
  {
   "cell_type": "code",
   "execution_count": null,
   "metadata": {},
   "outputs": [],
   "source": [
    "import numpy as np\n",
    "\n",
    "arr = np.array([[1, 2, 3], [4, 5, 6], [7 ,8, 9]])\n",
    "result = np.sum(arr)\n",
    "\n",
    "grade_lesson2(result)"
   ]
  },
  {
   "cell_type": "code",
   "execution_count": null,
   "metadata": {},
   "outputs": [],
   "source": [
    "# Finally, commit your notebook\n",
    "fcc.commit()"
   ]
  }
 ],
 "metadata": {
  "interpreter": {
   "hash": "916dbcbb3f70747c44a77c7bcd40155683ae19c65e1c03b4aa3499c5328201f1"
  },
  "kernelspec": {
   "display_name": "Python 3.9.2 64-bit",
   "language": "python",
   "name": "python3"
  },
  "language_info": {
   "codemirror_mode": {
    "name": "ipython",
    "version": 3
   },
   "file_extension": ".py",
   "mimetype": "text/x-python",
   "name": "python",
   "nbconvert_exporter": "python",
   "pygments_lexer": "ipython3",
   "version": "3.9.2"
  },
  "orig_nbformat": 4
 },
 "nbformat": 4,
 "nbformat_minor": 2
}
